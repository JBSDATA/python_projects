{
 "cells": [
  {
   "cell_type": "code",
   "execution_count": 4,
   "metadata": {},
   "outputs": [],
   "source": [
    "import os\n",
    "import pandas as pd\n",
    "import requests\n",
    "from bs4 import BeautifulSoup\n",
    "import re"
   ]
  },
  {
   "cell_type": "markdown",
   "metadata": {},
   "source": [
    "### Use the following resource\n",
    "\n",
    "https://www.zeldadungeon.net/wiki/Tears_of_the_Kingdom_Materials\n",
    "\n",
    "----\n",
    "\n",
    "- Get a list of all materials\n",
    "    - include href links that point to additional pages"
   ]
  },
  {
   "cell_type": "code",
   "execution_count": 6,
   "metadata": {},
   "outputs": [
    {
     "data": {
      "text/plain": [
       "200"
      ]
     },
     "execution_count": 6,
     "metadata": {},
     "output_type": "execute_result"
    }
   ],
   "source": [
    "### each of the materials groups has a header indicated by the following: \n",
    "# -> span class=\"mw-headline\"\n",
    "# \n",
    "# Under this header, there are lists of multiple \n",
    "# \n",
    "totk_materials_url = 'https://www.zeldadungeon.net/wiki/Tears_of_the_Kingdom_Materials'\n",
    "r = requests.get(totk_materials_url)\n",
    "r.status_code"
   ]
  },
  {
   "cell_type": "code",
   "execution_count": 176,
   "metadata": {},
   "outputs": [],
   "source": [
    "# find html class mw-headline in html document soup\n",
    "soup = BeautifulSoup(r.text)"
   ]
  },
  {
   "cell_type": "code",
   "execution_count": 203,
   "metadata": {},
   "outputs": [],
   "source": [
    "# find Contents Index\n",
    "toc_list = soup.find_all('div', {\"class\":\"toc\", \"id\":\"toc\"})\n",
    "# find all material headers\n",
    "hdr_list = soup.find_all('h2')\n",
    "# find all materials under each header\n",
    "span_list = soup.find_all('span', {\"class\":\"mw-headline\"})\n",
    "# get all links for each material\n",
    "dl_list = soup.find_all('dl')"
   ]
  },
  {
   "cell_type": "code",
   "execution_count": 227,
   "metadata": {},
   "outputs": [],
   "source": [
    "def extract_material_hierarchy(toc_list):\n",
    "    ''' return material group dictionary containing materials that fall under each group '''\n",
    "    toc_ul_list = toc_list[0].find_all('ul')\n",
    "    full_toc = toc_ul_list[0]\n",
    "    group_hdr_list = full_toc.find_all('li', {\"class\":\"toclevel-1\"})\n",
    "    len(group_hdr_list)\n",
    "\n",
    "\n",
    "    ### for each materials group, find all materials that align with this group\n",
    "    toclevel1_pat = re.compile(\"toclevel-1*\")\n",
    "    toclevel2_pat = re.compile(\"toclevel-2*\")\n",
    "    material_group_dict = {}\n",
    "    for g in group_hdr_list:\n",
    "        material_group = g.contents[0].text\n",
    "        print(material_group)\n",
    "        group_vals_list = g.find_all('li', {\"class\":toclevel2_pat})\n",
    "        material_list = []\n",
    "        for gv in group_vals_list:\n",
    "            try:\n",
    "                g_a_val = gv.find(\"a\")\n",
    "                material_name = g_a_val.find_all('span')[1].text\n",
    "                material_list.append(material_name)\n",
    "                # print('\\t'+material_name)\n",
    "            except:\n",
    "                print('Could not parse the above')\n",
    "        if pd.isnull(material_group)==False:\n",
    "            material_group_dict.update({material_group:material_list})\n",
    "    return material_group_dict"
   ]
  },
  {
   "cell_type": "code",
   "execution_count": 232,
   "metadata": {},
   "outputs": [],
   "source": [
    "def get_href_by_material(dl_list):\n",
    "        # get title for each material\n",
    "    dl_raw_title = [d.find('a').get('title') for d in dl_list if d.find('a') is not None]\n",
    "        # get URL for each material\n",
    "    dl_raw_links = [d.find('a').get('href') for d in dl_list if d.find('a') is not None]\n",
    "        # create absolute URL reference\n",
    "    base_url = 'https://www.zeldadungeon.net'\n",
    "    material_proper_link = [base_url+dl for dl in dl_raw_links]\n",
    "        # \n",
    "    link_zip = list(zip(dl_raw_title, material_proper_link))\n",
    "    link_df = pd.DataFrame(link_zip, columns=['Material Name','URL'])\n",
    "    return link_df "
   ]
  },
  {
   "cell_type": "code",
   "execution_count": 253,
   "metadata": {},
   "outputs": [
    {
     "name": "stdout",
     "output_type": "stream",
     "text": [
      "1 Fruits\n",
      "2 Mushrooms\n",
      "3 Plants\n",
      "4 Meats\n",
      "5 Other Ingredients\n",
      "6 Fishes\n",
      "7 Snails & Crabs\n",
      "8 Fairy\n",
      "9 Insects\n",
      "10 Frogs & Lizards\n",
      "11 Ores\n",
      "12 Guts\n",
      "13 Chuchu Jellies & Octo Balloon\n",
      "14 Eyeballs\n",
      "15 Wings\n",
      "16 Horns\n",
      "17 Blunt Enemy Drops\n",
      "18 Tails & Tentacles\n",
      "19 Teeth, Claws, & Fangs\n",
      "20 Dragon Parts\n",
      "21 Miscellaneous\n",
      "<class 'pandas.core.frame.DataFrame'>\n",
      "Int64Index: 251 entries, 0 to 250\n",
      "Data columns (total 3 columns):\n",
      " #   Column          Non-Null Count  Dtype \n",
      "---  ------          --------------  ----- \n",
      " 0   Material Group  251 non-null    object\n",
      " 1   Material Name   251 non-null    object\n",
      " 2   URL             251 non-null    object\n",
      "dtypes: object(3)\n",
      "memory usage: 7.8+ KB\n",
      "At least one of the materials does not have a proper URL\n"
     ]
    }
   ],
   "source": [
    "### retrieve material groups and names\n",
    "material_group_dict = extract_material_hierarchy(toc_list)\n",
    "    # turn into dataframe\n",
    "mat_final_list = []\n",
    "_ = [mat_final_list.extend(list(zip([k]*len(v), v))) for k, v in material_group_dict.items()]\n",
    "material_df = pd.DataFrame(mat_final_list, columns=['Material Group','Material Name'])\n",
    "    # adjust group name | remove rank/order prefix\n",
    "rem_order_str = lambda s: ' '.join(s.split()[1:])\n",
    "material_df['Material Group'] = material_df['Material Group'].apply(rem_order_str)\n",
    "\n",
    "### retrieve href for each material to gather more info\n",
    "material_link_df = get_href_by_material(dl_list)\n",
    "rem_shard = lambda s: s.replace('Shard of','').strip()\n",
    "    # remove \"Shard of\" for the following materials\n",
    "special_horn_list = ['Shard of Dinraal\\'s Horn',\\\n",
    "                    'Shard of Naydra\\'s Horn',\\\n",
    "                    'Shard of Farosh\\'s Horn']\n",
    "special_horn_inds = material_link_df['Material Name'].isin(special_horn_list)\n",
    "horn_adj = material_link_df.loc[special_horn_inds, 'Material Name'].apply(rem_shard)\n",
    "material_link_df.loc[special_horn_inds, 'Material Name'] = horn_adj\n",
    "\n",
    "### JOIN tables together for full list\n",
    "material_df_aug = material_df.merge(material_link_df, how='left', on='Material Name')\n",
    "material_df_aug.info()\n",
    "try:\n",
    "    assert material_df_aug[material_df_aug['URL'].isnull()].shape[0]\n",
    "except:\n",
    "    print('At least one of the materials does not have a proper URL')"
   ]
  },
  {
   "cell_type": "code",
   "execution_count": 255,
   "metadata": {},
   "outputs": [],
   "source": [
    "material_df_aug.to_csv('Material Names and URLs.csv', index=False)"
   ]
  }
 ],
 "metadata": {
  "kernelspec": {
   "display_name": "base",
   "language": "python",
   "name": "python3"
  },
  "language_info": {
   "codemirror_mode": {
    "name": "ipython",
    "version": 3
   },
   "file_extension": ".py",
   "mimetype": "text/x-python",
   "name": "python",
   "nbconvert_exporter": "python",
   "pygments_lexer": "ipython3",
   "version": "3.9.7"
  }
 },
 "nbformat": 4,
 "nbformat_minor": 2
}
